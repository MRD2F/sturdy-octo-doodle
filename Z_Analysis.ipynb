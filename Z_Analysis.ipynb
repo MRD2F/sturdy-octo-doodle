{
 "cells": [
  {
   "cell_type": "markdown",
   "metadata": {
    "collapsed": true
   },
   "source": [
    "  <div id=\"Z_analysis\" style=\"float:left; clear:both; padding: 0.0cm 0.0cm 0.0cm 0.0cm; text-align: center; width:92%; margin:0px auto; background-color:#d1ecfc; border:none!important;\">\n",
    "    <table width=\"100%\" border=\"0\" style=\"float:center; clear:both; border:none!important;\">\n",
    "      <tr>\n",
    "        <td style=\"width:50%; text-align: left; padding: 1cm 0.5cm 1cm 0.5cm;\">\n",
    "          <h1 style=\"font-family:verdana; font-size:180%;\"><CENTER> Análisis del Bosón Z </CENTER>\n",
    "          <img class=\"img-responsive\" src=\"http://atlas.physicsmasterclasses.org/zpath_files/img/highslide/feynman/Z_ElectronPositron.png\" alt=\"Visualisations\" style=\"width:90%\">\n",
    "        </td>\n",
    "        <td style=\"width:50%; padding: 0.2cm 0.2cm 0.2cm 0.2cm;\">\n",
    "            <img class=\"img-responsive\" src=\"http://opendata.atlas.cern/DataAndTools/pictures/handmade_ZAnalysis.png\" alt=\"Visualisations\" style=\"width:100%\">\n",
    "        </td>\n",
    "      </tr>\n",
    "    </table>\n",
    "  </div> "
   ]
  },
  {
   "cell_type": "markdown",
   "metadata": {},
   "source": [
    "<CENTER> Este notebook esta hecho con propósitos educacionales y esta escrito en C++ "
   ]
  },
  {
   "cell_type": "code",
   "execution_count": null,
   "metadata": {
    "collapsed": true
   },
   "outputs": [],
   "source": [
    "#include <iostream>\n",
    "#include <string>\n",
    "#include <stdio.h>\n"
   ]
  },
  {
   "cell_type": "markdown",
   "metadata": {},
   "source": [
    "<b> Paso uno: </b> Se crea una TChain, esta es una clase que es usanda para unir diferentes archivos en una sola cadena, a la cual se le van añadir en secuencia distintos archivos de ROOT que se van a usar en el análisis. Primero vamos a crear una cadena, en este caso llamada MonteCarlo, y en la celda de abajo se van a poner los eslabones de la cadena, los cuales van a seguir el orden en que esten puestos.\n"
   ]
  },
  {
   "cell_type": "code",
   "execution_count": null,
   "metadata": {
    "collapsed": true
   },
   "outputs": [],
   "source": [
    "TChain *MonteCarlo = new TChain(\"mini\");"
   ]
  },
  {
   "cell_type": "markdown",
   "metadata": {},
   "source": [
    "<b> Paso dos: </b> Se colectan las muestras que se van a utilizar en este análisis en un solo archivo llamado dataset, el se definió en el paso anterior con la clase de TChain.\n",
    "\n",
    "\n",
    "Estamos usando los Datos Reales y los Monte Carlos que provee el website ATLAS OpenData para hacer el análisis.\n",
    "\n",
    "Se puede usar los datos en local o tomarlo directamente de la página web de ATLAS OpenData, tal como se muestra a conticuación, dependiendo si se esta en linea, sin una conexión a internet o si se quiere agilizar el proceso.\n"
   ]
  },
  {
   "cell_type": "code",
   "execution_count": null,
   "metadata": {
    "collapsed": true
   },
   "outputs": [],
   "source": [
    "MonteCarlo->Add(\"/media/sf_ATLAS_OpenData/MC/mc_147770.Zee.root\");\n",
    "\n",
    "//De esta forma se lee directamente de Internet. Si se esta fuera de linea, o se desea mayor rapidez usar la linea anterior\n",
    "//MonteCarlo->Add(\"http://opendata.atlas.cern/release/samples/MC/mc_147770.Zee.root\");\n",
    "\n",
    "/*Todos los Monte Carlo disponibles para el decaimiento del boson Z en un par de leptones\n",
    "MonteCarlo->Add(\"/media/sf_ATLAS_OpenDataMC/mc_147770.Zee.root\");\n",
    "MonteCarlo->Add(\"/media/sf_ATLAS_OpenData/MC/mc_147771.Zmumu.root\");\n",
    "MonteCarlo->Add(\"/media/sf_ATLAS_OpenData/MC/mc_147772.Ztautau.root\");\n",
    "\n",
    "\n",
    "*/"
   ]
  },
  {
   "cell_type": "markdown",
   "metadata": {},
   "source": [
    "<b> Paso tres y cuatro: </b> Primero hay que declarar cuales y que tipo de variables, de todas las contenidas en los Monte Carlo y Datos, reales van a ser utilizadas. Despues se muestra como las variables que ya se declararon anteriormente van a ser llamadas.  "
   ]
  },
  {
   "cell_type": "code",
   "execution_count": null,
   "metadata": {
    "collapsed": true
   },
   "outputs": [],
   "source": [
    "const int vs = 5;\n",
    "\n",
    "Int_t   MonteCarlo_lepton_n = -1,\n",
    "        MonteCarlo_runNumber = -1,  \n",
    "        MonteCarlo_lepton_charge[vs], \n",
    "        MonteCarlo_lepton_type[vs];\n",
    "\n",
    "Float_t MonteCarlo_lepton_pt[vs],\n",
    "        MonteCarlo_lepton_eta[vs],\n",
    "        MonteCarlo_lepton_phi[vs],\n",
    "        MonteCarlo_lepton_E[vs];\n",
    "        \n",
    "Float_t MonteCarlo_met_et = -1,\n",
    "        MonteCarlo_met_phi = -1;\n"
   ]
  },
  {
   "cell_type": "code",
   "execution_count": null,
   "metadata": {
    "collapsed": false
   },
   "outputs": [],
   "source": [
    "MonteCarlo->SetBranchAddress(\"lep_n\",      &MonteCarlo_lepton_n);\n",
    "MonteCarlo->SetBranchAddress(\"channelNumber\",  &MonteCarlo_runNumber);\n",
    "MonteCarlo->SetBranchAddress(\"lep_charge\", &MonteCarlo_lepton_charge);\n",
    "MonteCarlo->SetBranchAddress(\"lep_type\",   &MonteCarlo_lepton_type);\n",
    "MonteCarlo->SetBranchAddress(\"lep_pt\",     &MonteCarlo_lepton_pt);\n",
    "MonteCarlo->SetBranchAddress(\"lep_eta\",    &MonteCarlo_lepton_eta);\n",
    "MonteCarlo->SetBranchAddress(\"lep_phi\",    &MonteCarlo_lepton_phi);\n",
    "MonteCarlo->SetBranchAddress(\"lep_E\",   &MonteCarlo_lepton_E);\n",
    "MonteCarlo->SetBranchAddress(\"met_et\",   &MonteCarlo_met_et);\n",
    "MonteCarlo->SetBranchAddress(\"met_phi\",   &MonteCarlo_met_phi);\n"
   ]
  },
  {
   "cell_type": "markdown",
   "metadata": {},
   "source": [
    "<b> Paso cinco: </b> Vamos a definir un histograma en 1D. De forma general se escribe como:\n",
    "\n",
    "TH1F <font color=\"purple\"> <b>* </b> </font> nombre_histograma <font color=\"purple\"> <b> = </b> </font>  <font color=\"green\">  <b> new </b> </font>   TH1F(\"<font color=\"red\"> nombre_histograma  </font>\", \"<font color=\"red\"> Titulo del Histograma </font>; Nombre eje x ; Nombre eje y\" ; <font color=\"green\">  beam </font>, <font color=\"green\">  $x_i$  </font> , <font color=\"green\">  $x_f$  </font>);</p>"
   ]
  },
  {
   "cell_type": "code",
   "execution_count": null,
   "metadata": {
    "collapsed": false
   },
   "outputs": [],
   "source": [
    "TH1F *h_Inv_Mass = new TH1F(\"h_Inv_Mass\",\"Masa Invariante Candidato a Z; Masa Invariante [GeV]; eventos\",20,60,120);"
   ]
  },
  {
   "cell_type": "markdown",
   "metadata": {},
   "source": [
    "<b> Paso seis (Opcional) : </b> Vamos a definir el estilo del histograma. Se va a definir el color de la linea y el relleno de los histogramas que se crearon en la celda anterior. Como referencia para los colores permitidos por ROOT se tiene la siguiente paleta, y para mas informacion se puede acceder al siguiente enlace <b><a href=\"#\"> https://root.cern/doc/v610/classTColor.html</a> :\n",
    "  \n",
    "  <div id=\"Z_analysis\" style=\"float:left; clear:both; padding: 0.0cm 0.0cm 0.0cm 0.0cm; text-align: center; width:92%; margin:0px auto; background-color:#d1ecfc; border:none!important;\">\n",
    "          <img class=\"img-responsive\" src=\"https://root.cern/doc/v610/pict1_TColor_002.png\" alt=\"Visualisations\" style=\"width:35%\">\n",
    "  </div> "
   ]
  },
  {
   "cell_type": "code",
   "execution_count": null,
   "metadata": {
    "collapsed": false
   },
   "outputs": [],
   "source": [
    "h_Inv_Mass->SetFillColor(kBlue);\n",
    "h_Inv_Mass->SetLineColor(kBlue);\n",
    "h_Inv_Mass->SetMarkerSize(2.0);"
   ]
  },
  {
   "cell_type": "markdown",
   "metadata": {},
   "source": [
    "<b> Paso Opcional </b>: Las siguientes dos lineas son un mecanismo para tomar solamente una fraccion de los eventos sobre los cuales se quiere correr el analisis, con el fin de minimizar el tiempo que le lleva correr el loop.\n"
   ]
  },
  {
   "cell_type": "code",
   "execution_count": null,
   "metadata": {
    "collapsed": false
   },
   "outputs": [],
   "source": [
    "int nentries, nbytes, i;\n",
    "nentries = (Int_t)MonteCarlo->GetEntries();"
   ]
  },
  {
   "cell_type": "code",
   "execution_count": null,
   "metadata": {
    "collapsed": false
   },
   "outputs": [],
   "source": [
    "// IMPORTANT: fraction events we want to run\n",
    "fraction_events = 0.001;\n",
    "events_to_run = nentries*fraction_events;\n",
    "\n",
    "std::cout << \"Total # events = \"  << nentries\n",
    "          << \". Events to run = \" << events_to_run\n",
    "          << \" corresponding to \" << fraction_events*100\n",
    "          << \"% of total events!\" << std::endl;"
   ]
  },
  {
   "cell_type": "markdown",
   "metadata": {},
   "source": [
    "<b> Paso Siete: </b> Aqui vamos a hacer el loop. Se va a realizar una serie de cortes para poder seleccionar eventos que cumplan solamente ciertos criterios, tal que coincida con lo esperado para este analisis, y llenar los histogramas definidos en el paso cinco solamente con los eventos que pasen la seleccion. Los criterios son los siguientes:\n",
    "    <ol>\n",
    "        <li> Deben haber al menos 2 buenos leptones </li>\n",
    "        <li> Los leptones seleccionados deben ser de la misma familia </li>\n",
    "        <li> Los leptones seleccionados deben tener carga opuesta </li>\n",
    "    </ol>\n",
    "    \n",
    " La masa invariante puede ser calculada como la sumatoria del modulo del cuadri-momentum de las particulas en las cuales decae la particula inicial de la siguiente forma:\n",
    " \n",
    "$M^2 = (\\sum E)^2   - ||\\sum p ||^2 = (E_1 + E_2)^2 - (p_{x1}^2 + p_{x2}^2)^2 - (p_{y1}^2 + p_{y2}^2)^2 - (p_{z1}^2 + p_{z2}^2)^2 $, \n",
    "\n",
    "Nosotros lo vamos a hacer por medio de la clase de TLorentzVector, la cual se puede encontrar informacion en: <b><a href=\"#\">https://root.cern.ch/doc/master/classTLorentzVector.html</a> :"
   ]
  },
  {
   "cell_type": "code",
   "execution_count": null,
   "metadata": {
    "collapsed": false
   },
   "outputs": [],
   "source": [
    "\n",
    "TLorentzVector l1;         \n",
    "TLorentzVector l2;  \n",
    "TLorentzVector l1plusl2;\n",
    "\n",
    "for (i=0; i<events_to_run; i++)\n",
    "{\n",
    "    nbytes = MonteCarlo->GetEntry(i);\n",
    "    \n",
    "    // Corte uno: El numero de leptones en los eventos debe ser exactamente 2\n",
    "    if(MonteCarlo_lepton_n==2) \n",
    "    {\n",
    "        \n",
    "        //Corte Dos: Leptones de la misma familia\n",
    "        if(MonteCarlo_lepton_type[0] == MonteCarlo_lepton_type[1]) \n",
    "        {\n",
    "            // Corte Tres: Los dos leptones seleccionados deben tener carga opuesta \n",
    "            if(MonteCarlo_lepton_charge[0] != MonteCarlo_lepton_charge[1])  {\n",
    "                l1.SetPtEtaPhiE(MonteCarlo_lepton_pt[0]/1000., MonteCarlo_lepton_eta[0], MonteCarlo_lepton_phi[0], MonteCarlo_lepton_E[0]/1000.);\n",
    "                l2.SetPtEtaPhiE(MonteCarlo_lepton_pt[1]/1000., MonteCarlo_lepton_eta[1], MonteCarlo_lepton_phi[1], MonteCarlo_lepton_E[1]/1000.);\n",
    "                l1plusl2=l1+l2;\n",
    "                //l1plusl2.M();\n",
    "                h_Inv_Mass->Fill(l1plusl2.M());\n",
    "\n",
    "            }\n",
    "        }\n",
    "    }\n",
    "}"
   ]
  },
  {
   "cell_type": "markdown",
   "metadata": {
    "collapsed": true
   },
   "source": [
    "<b> Paso Ocho: </b> Por ultimo vamos a dibujar los histogramas que hemos creado y llenado en los pasos anteriornes. Para ello primero es necesario crear una canvas, esta es el area en el la cual va a permitir que se puedan ver los histogramas dibujados. "
   ]
  },
  {
   "cell_type": "code",
   "execution_count": null,
   "metadata": {
    "collapsed": false,
    "scrolled": false
   },
   "outputs": [],
   "source": [
    "TCanvas *cz = new TCanvas(\"cz\",\"cz\",10,10,700,500);\n",
    "h_Inv_Mass->Draw();\n",
    "cz->Draw();"
   ]
  },
  {
   "cell_type": "markdown",
   "metadata": {},
   "source": [
    "# Ahora repitamos lo anterior para los Datos Reales!"
   ]
  },
  {
   "cell_type": "code",
   "execution_count": null,
   "metadata": {
    "collapsed": false
   },
   "outputs": [],
   "source": [
    "TChain *data = new TChain(\"mini\");"
   ]
  },
  {
   "cell_type": "code",
   "execution_count": null,
   "metadata": {
    "collapsed": true
   },
   "outputs": [],
   "source": [
    "data->Add(\"/media/sf_ATLAS_OpenData/Data/DataEgamma.root\");\n",
    "data->Add(\"/media/sf_ATLAS_OpenData/Data/DataMuons.root\");\n"
   ]
  },
  {
   "cell_type": "code",
   "execution_count": null,
   "metadata": {
    "collapsed": false
   },
   "outputs": [],
   "source": [
    "const int vd = 5;\n",
    "\n",
    "Int_t   data_lepton_n = -1,\n",
    "        data_runNumber = -1,  \n",
    "        data_lepton_charge[vd], \n",
    "        data_lepton_type[vd];\n",
    "\n",
    "Float_t data_lepton_pt[vd],\n",
    "        data_lepton_eta[vd],\n",
    "        data_lepton_phi[vd],\n",
    "        data_lepton_E[vd];\n",
    "        \n",
    "Float_t data_met_et = -1,\n",
    "        data_met_phi = -1;\n"
   ]
  },
  {
   "cell_type": "code",
   "execution_count": null,
   "metadata": {
    "collapsed": false
   },
   "outputs": [],
   "source": [
    "data->SetBranchAddress(\"lep_n\",      &data_lepton_n);\n",
    "data->SetBranchAddress(\"channelNumber\",  &data_runNumber);\n",
    "data->SetBranchAddress(\"lep_charge\", &data_lepton_charge);\n",
    "data->SetBranchAddress(\"lep_type\",   &data_lepton_type);\n",
    "data->SetBranchAddress(\"lep_pt\",     &data_lepton_pt);\n",
    "data->SetBranchAddress(\"lep_eta\",    &data_lepton_eta);\n",
    "data->SetBranchAddress(\"lep_phi\",    &data_lepton_phi);\n",
    "data->SetBranchAddress(\"lep_E\",   &data_lepton_E);\n",
    "\n",
    "data->SetBranchAddress(\"met_et\",   &data_met_et);\n",
    "data->SetBranchAddress(\"met_phi\",   &data_met_phi);\n"
   ]
  },
  {
   "cell_type": "code",
   "execution_count": null,
   "metadata": {
    "collapsed": false
   },
   "outputs": [],
   "source": [
    "TH1F *h_Inv_Mass_data = new TH1F(\"h_Inv_Mass_data\",\"Masa Invariante Candidato a Z; Masa Invariante [GeV]; eventos\",20,60,120);\n"
   ]
  },
  {
   "cell_type": "code",
   "execution_count": null,
   "metadata": {
    "collapsed": false
   },
   "outputs": [],
   "source": [
    "h_Inv_Mass_data->SetFillColor(kAzure);\n",
    "h_Inv_Mass_data->SetLineColor(kAzure);\n",
    "h_Inv_Mass_data->SetMarkerSize(1.0);"
   ]
  },
  {
   "cell_type": "code",
   "execution_count": null,
   "metadata": {
    "collapsed": false
   },
   "outputs": [],
   "source": [
    "int mentries, mbytes, j;\n",
    "mentries = (Int_t)data->GetEntries();"
   ]
  },
  {
   "cell_type": "code",
   "execution_count": null,
   "metadata": {
    "collapsed": false
   },
   "outputs": [],
   "source": [
    "// IMPORTANT: fraction events we want to run\n",
    "fraction_events = 0.001;\n",
    "events_to_run = mentries*fraction_events;\n",
    "\n",
    "std::cout << \"Total # events = \"  << mentries\n",
    "          << \". Events to run = \" << events_to_run\n",
    "          << \" corresponding to \" << fraction_events*100\n",
    "          << \"% of total events!\" << std::endl;"
   ]
  },
  {
   "cell_type": "code",
   "execution_count": null,
   "metadata": {
    "collapsed": false
   },
   "outputs": [],
   "source": [
    "\n",
    "TLorentzVector Lepton1;         \n",
    "TLorentzVector Lepton2;  \n",
    "TLorentzVector Lepton1plusLepton2;\n",
    "\n",
    "for (i=0; i<events_to_run; i++)\n",
    "{\n",
    "    mbytes = data->GetEntry(i);\n",
    "    \n",
    "    // Corte uno: El numero de leptones en los eventos debe ser exactamente 2\n",
    "    if(data_lepton_n==2) \n",
    "    {\n",
    "        //Corte Dos: Leptones de la misma familia\n",
    "        if(data_lepton_type[0] == data_lepton_type[1]) \n",
    "        {\n",
    "            // Corte Tres: Los dos leptones seleccionados deben tener carga opuesta \n",
    "            if(data_lepton_charge[0] != data_lepton_charge[1]) \n",
    "            {\n",
    "                Lepton1.SetPtEtaPhiE(data_lepton_pt[0]/1000., data_lepton_eta[0], data_lepton_phi[0], data_lepton_E[0]/1000.);\n",
    "                Lepton2.SetPtEtaPhiE(data_lepton_pt[1]/1000., data_lepton_eta[1], data_lepton_phi[1], data_lepton_E[1]/1000.);\n",
    "                Lepton1plusLepton2=Lepton1+Lepton2;\n",
    "                //l1plusl2.M();\n",
    "                h_Inv_Mass_data->Fill(Lepton1plusLepton2.M());\n",
    "\n",
    "            }\n",
    "        }\n",
    "    }\n",
    "}"
   ]
  },
  {
   "cell_type": "code",
   "execution_count": null,
   "metadata": {
    "collapsed": false
   },
   "outputs": [],
   "source": [
    "TCanvas *cz1 = new TCanvas(\"cz1\",\"cz1\",10,10,700,500);\n",
    "h_Inv_Mass_data->Draw();\n",
    "cz1->Draw();"
   ]
  },
  {
   "cell_type": "code",
   "execution_count": null,
   "metadata": {
    "collapsed": false
   },
   "outputs": [],
   "source": [
    "TCanvas *cz2 = new TCanvas(\"cz2\",\"cz2\",10,10,700,500);\n",
    "\n",
    "h_Inv_Mass->Draw();\n",
    "h_Inv_Mass_data->Draw(\"same\");\n",
    "\n",
    "cz2->Draw();"
   ]
  },
  {
   "cell_type": "code",
   "execution_count": null,
   "metadata": {
    "collapsed": true
   },
   "outputs": [],
   "source": []
  }
 ],
 "metadata": {
  "kernelspec": {
   "display_name": "ROOT Prompt",
   "language": "c++",
   "name": "root"
  },
  "language_info": {
   "codemirror_mode": {
    "name": "ipython",
    "version": 2
   },
   "file_extension": ".py",
   "mimetype": "text/x-python",
   "name": "python",
   "nbconvert_exporter": "python",
   "pygments_lexer": "ipython2",
   "version": "2.7.9"
  }
 },
 "nbformat": 4,
 "nbformat_minor": 1
}
