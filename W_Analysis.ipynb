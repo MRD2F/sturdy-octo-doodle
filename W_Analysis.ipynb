{
 "cells": [
  {
   "cell_type": "markdown",
   "metadata": {
    "collapsed": true
   },
   "source": [
    "  <div id=\"Z_analysis\" style=\"float:left; clear:both; padding: 0.0cm 0.0cm 0.0cm 0.0cm; text-align: center; width:92%; margin:0px auto; background-color:#d1ecfc; border:none!important;\">\n",
    "    <table width=\"100%\" border=\"0\" style=\"float:center; clear:both; border:none!important;\">\n",
    "      <tr>\n",
    "        <td style=\"width:50%; text-align: left; padding: 1cm 0.5cm 1cm 0.5cm;\">\n",
    "          <h1 style=\"font-family:verdana; font-size:180%;\"><CENTER> Análisis del Bosón W </CENTER>\n",
    "          <img class=\"img-responsive\" src=\"http://blogs.uslhc.us/wp-content/uploads/2010/06/Wlepton.png\" alt=\"Visualisations\" style=\"width:100%\">\n",
    "        </td>\n",
    "        <td style=\"width:50%; padding: 0.2cm 0.2cm 0.2cm 0.2cm;\">\n",
    "            <img class=\"img-responsive\" src=\"http://opendata.atlas.cern/DataAndTools/pictures/handmade_WAnalysis.png\" alt=\"Visualisations\" style=\"width:100%\">\n",
    "        </td>\n",
    "      </tr>\n",
    "    </table>\n",
    "  </div> "
   ]
  },
  {
   "cell_type": "markdown",
   "metadata": {},
   "source": [
    "<CENTER> Este notebook esta hecho con propósitos educacionales y esta escrito en C++ "
   ]
  },
  {
   "cell_type": "code",
   "execution_count": null,
   "metadata": {
    "collapsed": true
   },
   "outputs": [],
   "source": [
    "#include <iostream>\n",
    "#include <string>\n",
    "#include <stdio.h>\n"
   ]
  },
  {
   "cell_type": "markdown",
   "metadata": {},
   "source": [
    "<b> Paso uno: </b> Se crea una TChain, esta es una clase que es usanda para unir diferentes archivos en una sola cadena, a la cual se le van añadir en secuencia distintos archivos de ROOT que se van a usar en el análisis. Primero vamos a crear una cadena, en este caso llamada MonteCarlo, y en la celda de abajo se van a poner los eslabones de la cadena, los cuales van a seguir el orden en que esten puestos.\n"
   ]
  },
  {
   "cell_type": "code",
   "execution_count": null,
   "metadata": {
    "collapsed": true
   },
   "outputs": [],
   "source": [
    "TChain *MonteCarlo = new TChain(\"mini\");"
   ]
  },
  {
   "cell_type": "markdown",
   "metadata": {},
   "source": [
    "<b> Paso dos: </b> Se colectan las muestras que se van a utilizar en este análisis en un solo archivo llamado dataset, el se definió en el paso anterior con la clase de TChain.\n",
    "\n",
    "\n",
    "Estamos usando los Datos Reales y los Monte Carlos que provee el website ATLAS OpenData para hacer el análisis.\n",
    "\n",
    "Se puede usar los datos en local o tomarlo directamente de la página web de ATLAS OpenData, tal como se muestra a conticuación, dependiendo si se esta en linea, sin una conexión a internet o si se quiere agilizar el proceso.\n"
   ]
  },
  {
   "cell_type": "code",
   "execution_count": null,
   "metadata": {
    "collapsed": true
   },
   "outputs": [],
   "source": [
    "\n",
    "MonteCarlo->Add(\"/media/sf_ATLAS_OpenData/MC/mc_167740.WenuWithB.root\");\n",
    "\n",
    "//De esta forma se lee directamente de Internet. Si se esta fuera de linea, o se desea mayor rapidez usar la linea anterior\n",
    "//MonteCarlo->Add(\"http://opendata.atlas.cern/release/samples/MC/mc_167740.WenuWithB.root\");\n",
    "\n",
    "/*Todos los Monte Carlo disponibles para el decaimiento del boson W leptonicamente\n",
    "MonteCarlo->Add(\"/media/sf_ATLAS_OpenData/MC/mc_167741.WenuJetsBVeto.root\");\n",
    "MonteCarlo->Add(\"/media/sf_ATLAS_OpenData/MC/mc_167742.WenuNoJetsBVeto.root\");\n",
    "MonteCarlo->Add(\"/media/sf_ATLAS_OpenData/MC/mc_167743.WmunuWithB.root\");\n",
    "MonteCarlo->Add(\"/media/sf_ATLAS_OpenData/MC/mc_167744.WmunuJetsBVeto.root\");\n",
    "MonteCarlo->Add(\"/media/sf_ATLAS_OpenData/MC/mc_167745.WmunuNoJetsBVeto.root\");\n",
    "MonteCarlo->Add(\"/media/sf_ATLAS_OpenData/MC/mc_167746.WtaunuWithB.root\");\n",
    "MonteCarlo->Add(\"/media/sf_ATLAS_OpenData/MC/mc_167747.WtaunuJetsBVeto.root\");\n",
    "MonteCarlo->Add(\"//media/sf_ATLAS_OpenData/MC/mc_167748.WtaunuNoJetsBVeto.root\");\n",
    "\n",
    "*/"
   ]
  },
  {
   "cell_type": "markdown",
   "metadata": {},
   "source": [
    "<b> Paso tres y cuatro: </b> Primero hay que declarar cuales y que tipo de variables, de todas las contenidas en los Monte Carlo y Datos, reales van a ser utilizadas. Despues se muestra como las variables que ya se declararon anteriormente van a ser llamadas.  "
   ]
  },
  {
   "cell_type": "code",
   "execution_count": null,
   "metadata": {
    "collapsed": true
   },
   "outputs": [],
   "source": [
    "const int vs = 5;\n",
    "\n",
    "Int_t   MonteCarlo_lepton_n = -1,\n",
    "        MonteCarlo_runNumber = -1,  \n",
    "        MonteCarlo_lepton_charge[vs], \n",
    "        MonteCarlo_lepton_type[vs];\n",
    "\n",
    "Float_t MonteCarlo_lepton_pt[vs],\n",
    "        MonteCarlo_lepton_eta[vs],\n",
    "        MonteCarlo_lepton_phi[vs],\n",
    "        MonteCarlo_lepton_E[vs];\n",
    "        \n",
    "Float_t MonteCarlo_met_et = -1,\n",
    "        MonteCarlo_met_phi = -1;\n"
   ]
  },
  {
   "cell_type": "code",
   "execution_count": null,
   "metadata": {
    "collapsed": false
   },
   "outputs": [],
   "source": [
    "MonteCarlo->SetBranchAddress(\"lep_n\",      &MonteCarlo_lepton_n);\n",
    "MonteCarlo->SetBranchAddress(\"channelNumber\",  &MonteCarlo_runNumber);\n",
    "MonteCarlo->SetBranchAddress(\"lep_charge\", &MonteCarlo_lepton_charge);\n",
    "MonteCarlo->SetBranchAddress(\"lep_type\",   &MonteCarlo_lepton_type);\n",
    "MonteCarlo->SetBranchAddress(\"lep_pt\",     &MonteCarlo_lepton_pt);\n",
    "MonteCarlo->SetBranchAddress(\"lep_eta\",    &MonteCarlo_lepton_eta);\n",
    "MonteCarlo->SetBranchAddress(\"lep_phi\",    &MonteCarlo_lepton_phi);\n",
    "MonteCarlo->SetBranchAddress(\"lep_E\",   &MonteCarlo_lepton_E);\n",
    "MonteCarlo->SetBranchAddress(\"met_et\",   &MonteCarlo_met_et);\n",
    "MonteCarlo->SetBranchAddress(\"met_phi\",   &MonteCarlo_met_phi);\n"
   ]
  },
  {
   "cell_type": "markdown",
   "metadata": {},
   "source": [
    "<b> Paso cinco: </b> Vamos a definir un histograma en 1D. De forma general se escribe como:\n",
    "\n",
    "TH1F <font color=\"purple\"> <b>* </b> </font> nombre_histograma <font color=\"purple\"> <b> = </b> </font>  <font color=\"green\">  <b> new </b> </font>   TH1F(\"<font color=\"red\"> nombre_histograma  </font>\", \"<font color=\"red\"> Titulo del Histograma </font>; Nombre eje x ; Nombre eje y\" ; <font color=\"green\">  beam </font>, <font color=\"green\">  $x_i$  </font> , <font color=\"green\">  $x_f$  </font>);</p>"
   ]
  },
  {
   "cell_type": "code",
   "execution_count": null,
   "metadata": {
    "collapsed": false
   },
   "outputs": [],
   "source": [
    "TH1F *h_trans_mass = new TH1F(\"h_trans_mass\",\"Masa Transversa Candidato a W; Masa Transversa [GeV]; eventos\",20,0,200);"
   ]
  },
  {
   "cell_type": "markdown",
   "metadata": {},
   "source": [
    "<b> Paso seis (Opcional) : </b> Vamos a definir el estilo del histograma. Se va a definir el color de la linea y el relleno de los histogramas que se crearon en la celda anterior. Como referencia para los colores permitidos por ROOT se tiene la siguiente paleta, y para mas informacion se puede acceder al siguiente enlace <b><a href=\"#\"> https://root.cern/doc/v610/classTColor.html</a> :\n",
    "  \n",
    "  <div id=\"Z_analysis\" style=\"float:left; clear:both; padding: 0.0cm 0.0cm 0.0cm 0.0cm; text-align: center; width:92%; margin:0px auto; background-color:#d1ecfc; border:none!important;\">\n",
    "          <img class=\"img-responsive\" src=\"https://root.cern/doc/v610/pict1_TColor_002.png\" alt=\"Visualisations\" style=\"width:35%\">\n",
    "  </div> "
   ]
  },
  {
   "cell_type": "code",
   "execution_count": null,
   "metadata": {
    "collapsed": false
   },
   "outputs": [],
   "source": [
    "h_trans_mass->SetFillColor(kBlue+3);\n",
    "h_trans_mass->SetLineColor(kBlue+3);\n",
    "h_trans_mass->SetMarkerSize(2.0);"
   ]
  },
  {
   "cell_type": "markdown",
   "metadata": {},
   "source": [
    "<b> Paso Opcional </b>: Las siguientes dos lineas son un mecanismo para tomar solamente una fraccion de los eventos sobre los cuales se quiere correr el analisis, con el fin de minimizar el tiempo que le lleva correr el loop.\n"
   ]
  },
  {
   "cell_type": "code",
   "execution_count": null,
   "metadata": {
    "collapsed": false
   },
   "outputs": [],
   "source": [
    "int nentries, nbytes, i;\n",
    "nentries = (Int_t)MonteCarlo->GetEntries();"
   ]
  },
  {
   "cell_type": "code",
   "execution_count": null,
   "metadata": {
    "collapsed": false
   },
   "outputs": [],
   "source": [
    "// IMPORTANT: fraction events we want to run\n",
    "fraction_events = 0.001;\n",
    "events_to_run = nentries*fraction_events;\n",
    "\n",
    "std::cout << \"Total # events = \"  << nentries\n",
    "          << \". Events to run = \" << events_to_run\n",
    "          << \" corresponding to \" << fraction_events*100\n",
    "          << \"% of total events!\" << std::endl;"
   ]
  },
  {
   "cell_type": "markdown",
   "metadata": {},
   "source": [
    "<b> Paso Siete: </b> Aqui vamos a hacer el loop. Se va a realizar una serie de cortes para poder seleccionar eventos que cumplan solamente ciertos criterios, tal que coincida con lo esperado para este analisis, y llenar los histogramas definidos en el paso cinco solamente con los eventos que pasen la seleccion. Los criterios son los siguientes:\n",
    "    <ol>\n",
    "        <li> Deben haber exactamente un buen lepton con almenos $p_T $> 25 GeV </li>\n",
    "        <li> La energia transversa perdida del evento debe ser mayor de 30 GeV: $E^{miss}_T$ > 30 GeV </li>\n",
    "        <li> La masa transversa del candidato a boson W debe ser $m_T$ > 30 GeV </li>\n",
    "    </ol>\n",
    "    \n",
    " Para este analisis es de gran importancia el calculo de la masa transversa. Esta puede ser calculada usando variables que tenemos de la siguiente manera:\n",
    " \n",
    "$m_T = \\sqrt{ 2p^{\\ell}_T E^{miss}_T  [1 - cos (\\Delta \\phi (\\ell, E^{miss}_T) }$, \n",
    "\n",
    "Igualmente vamos a hacer uso de la clase de TLorentzVector, de la cual se puede encontrar informacion en: <b><a href=\"#\">https://root.cern.ch/doc/master/classTLorentzVector.html</a> :"
   ]
  },
  {
   "cell_type": "code",
   "execution_count": null,
   "metadata": {
    "collapsed": false
   },
   "outputs": [],
   "source": [
    "\n",
    "TLorentzVector Lepton;         \n",
    "  TLorentzVector MeT;  \n",
    "\n",
    "for (i=0; i<events_to_run; i++)\n",
    "{\n",
    "    nbytes = MonteCarlo->GetEntry(i);\n",
    "    \n",
    "    // Corte Cero: Debe haber mas de un lepton\n",
    "    if(MonteCarlo_lepton_n>0) \n",
    "    {\n",
    "        Lepton.SetPtEtaPhiE(MonteCarlo_lepton_pt[0], MonteCarlo_lepton_eta[0], MonteCarlo_lepton_phi[0], MonteCarlo_lepton_E[0]/1000.);\n",
    "        MeT.SetPtEtaPhiE(MonteCarlo_met_et, 0, MonteCarlo_met_phi, MonteCarlo_met_et);\n",
    "                \n",
    "                Float_t C, D, E, Trans_Mass;\n",
    "                \n",
    "                C = TMath::Cos(Lepton.DeltaPhi(MeT));\n",
    "                D = 1 - C;\n",
    "                E = 2 * (MonteCarlo_lepton_pt[0])* (MonteCarlo_met_et) * D;\n",
    "                Trans_Mass = TMath::Sqrt(E);\n",
    "                \n",
    "                float Trans_Mass_inGeV = Trans_Mass/1000. ;\n",
    "        \n",
    "        //Corte Uno: Debe haber exactamente un lepton, o en caso contrario de que hayan mas leptones deben tener pT < 25 GeV\n",
    "        if(MonteCarlo_lepton_n == 1 || MonteCarlo_lepton_pt[1]<25000.) \n",
    "        {\n",
    "            //Corte Dos: El lepton debe tener un pT > 25 GeV y una energia Transversa Perdida > 30 GeV\n",
    "            if(MonteCarlo_lepton_pt[0]>25000. && MonteCarlo_met_et > 30000.)\n",
    "                \n",
    "                //Corte Tres: Debe tener una Masa Transversa > 30 GeV\n",
    "                if (Trans_Mass>30000.)\n",
    "                {\n",
    "                   \n",
    "                        h_trans_mass->Fill(Trans_Mass_inGeV);\n",
    "                                 \n",
    "                }\n",
    "            }\n",
    "        }\n",
    "    }"
   ]
  },
  {
   "cell_type": "markdown",
   "metadata": {
    "collapsed": true
   },
   "source": [
    "<b> Paso Ocho: </b> Por ultimo vamos a dibujar los histogramas que hemos creado y llenado en los pasos anteriornes. Para ello primero es necesario crear una canvas, esta es el area en el la cual va a permitir que se puedan ver los histogramas dibujados. "
   ]
  },
  {
   "cell_type": "code",
   "execution_count": null,
   "metadata": {
    "collapsed": false,
    "scrolled": false
   },
   "outputs": [],
   "source": [
    "TCanvas *cz = new TCanvas(\"cz\",\"cz\",10,10,700,500);\n",
    "h_trans_mass->Draw();\n",
    "cz->Draw();"
   ]
  },
  {
   "cell_type": "markdown",
   "metadata": {},
   "source": [
    "# Ahora repitamos lo anterior para los Datos Reales!"
   ]
  },
  {
   "cell_type": "code",
   "execution_count": null,
   "metadata": {
    "collapsed": false
   },
   "outputs": [],
   "source": [
    "TChain *data = new TChain(\"mini\");"
   ]
  },
  {
   "cell_type": "code",
   "execution_count": null,
   "metadata": {
    "collapsed": true
   },
   "outputs": [],
   "source": [
    "data->Add(\"/media/sf_ATLAS_OpenData/Data/DataEgamma.root\");\n",
    "data->Add(\"/media/sf_ATLAS_OpenData/Data/DataMuons.root\");\n"
   ]
  },
  {
   "cell_type": "code",
   "execution_count": null,
   "metadata": {
    "collapsed": false
   },
   "outputs": [],
   "source": [
    "const int vd = 5;\n",
    "\n",
    "Int_t   data_lepton_n = -1,\n",
    "        data_runNumber = -1,  \n",
    "        data_lepton_charge[vd], \n",
    "        data_lepton_type[vd];\n",
    "\n",
    "Float_t data_lepton_pt[vd],\n",
    "        data_lepton_eta[vd],\n",
    "        data_lepton_phi[vd],\n",
    "        data_lepton_E[vd];\n",
    "        \n",
    "Float_t data_met_et = -1,\n",
    "        data_met_phi = -1;\n"
   ]
  },
  {
   "cell_type": "code",
   "execution_count": null,
   "metadata": {
    "collapsed": false
   },
   "outputs": [],
   "source": [
    "data->SetBranchAddress(\"lep_n\",      &data_lepton_n);\n",
    "data->SetBranchAddress(\"channelNumber\",  &data_runNumber);\n",
    "data->SetBranchAddress(\"lep_charge\", &data_lepton_charge);\n",
    "data->SetBranchAddress(\"lep_type\",   &data_lepton_type);\n",
    "data->SetBranchAddress(\"lep_pt\",     &data_lepton_pt);\n",
    "data->SetBranchAddress(\"lep_eta\",    &data_lepton_eta);\n",
    "data->SetBranchAddress(\"lep_phi\",    &data_lepton_phi);\n",
    "data->SetBranchAddress(\"lep_E\",   &data_lepton_E);\n",
    "\n",
    "data->SetBranchAddress(\"met_et\",   &data_met_et);\n",
    "data->SetBranchAddress(\"met_phi\",   &data_met_phi);\n"
   ]
  },
  {
   "cell_type": "code",
   "execution_count": null,
   "metadata": {
    "collapsed": false
   },
   "outputs": [],
   "source": [
    "TH1F *h_trans_mass_data = new TH1F(\"h_trans_mass_data\",\"Masa Transversa Candidato a W; Masa Transversa [GeV]; eventos\",20,0,200);"
   ]
  },
  {
   "cell_type": "code",
   "execution_count": null,
   "metadata": {
    "collapsed": false
   },
   "outputs": [],
   "source": [
    "h_trans_mass_data->SetFillColor(kAzure);\n",
    "h_trans_mass_data->SetLineColor(kAzure);\n",
    "h_trans_mass_data->SetMarkerSize(1.0);"
   ]
  },
  {
   "cell_type": "code",
   "execution_count": null,
   "metadata": {
    "collapsed": false
   },
   "outputs": [],
   "source": [
    "int mentries, mbytes, j;\n",
    "mentries = (Int_t)data->GetEntries();"
   ]
  },
  {
   "cell_type": "code",
   "execution_count": null,
   "metadata": {
    "collapsed": false
   },
   "outputs": [],
   "source": [
    "// IMPORTANT: fraction events we want to run\n",
    "fraction_events = 0.001;\n",
    "events_to_run = mentries*fraction_events;\n",
    "\n",
    "std::cout << \"Total # events = \"  << mentries\n",
    "          << \". Events to run = \" << events_to_run\n",
    "          << \" corresponding to \" << fraction_events*100\n",
    "          << \"% of total events!\" << std::endl;"
   ]
  },
  {
   "cell_type": "code",
   "execution_count": null,
   "metadata": {
    "collapsed": false
   },
   "outputs": [],
   "source": [
    "\n",
    "TLorentzVector Lepton2;         \n",
    "  TLorentzVector MeT2;  \n",
    "\n",
    "for (i=0; i<events_to_run; i++)\n",
    "{\n",
    "    mbytes = data->GetEntry(i);\n",
    "    \n",
    "    // Corte Cero: Debe haber mas de un lepton\n",
    "    if(data_lepton_n>0) \n",
    "    {\n",
    "        Lepton2.SetPtEtaPhiE(data_lepton_pt[0], data_lepton_eta[0], data_lepton_phi[0], data_lepton_E[0]/1000.);\n",
    "        MeT2.SetPtEtaPhiE(data_met_et, 0, data_met_phi, data_met_et);\n",
    "                \n",
    "                Float_t C, D, E, Trans_Mass;\n",
    "                \n",
    "                C = TMath::Cos(Lepton2.DeltaPhi(MeT2));\n",
    "                D = 1 - C;\n",
    "                E = 2 * (data_lepton_pt[0])* (data_met_et) * D;\n",
    "                Trans_Mass = TMath::Sqrt(E);\n",
    "                \n",
    "                float Trans_Mass_inGeV = Trans_Mass/1000. ;\n",
    "        \n",
    "        //Corte Uno: Debe haber exactamente un lepton, o en caso contrario de que hayan mas leptones deben tener pT < 25 GeV\n",
    "        if(data_lepton_n == 1 || data_lepton_pt[1]<25000.) \n",
    "        {\n",
    "            //Corte Dos: El lepton debe tener un pT > 25 GeV y una energia Transversa Perdida > 30 GeV\n",
    "            if(data_lepton_pt[0]>25000. && data_met_et > 30000.)\n",
    "                \n",
    "                //Corte Tres: Debe tener una Masa Transversa > 30 GeV\n",
    "                if (Trans_Mass>30000.)\n",
    "                {\n",
    "                   h_trans_mass_data->Fill(Trans_Mass_inGeV);\n",
    "                }               \n",
    "            }\n",
    "        }\n",
    "    }"
   ]
  },
  {
   "cell_type": "code",
   "execution_count": null,
   "metadata": {
    "collapsed": false
   },
   "outputs": [],
   "source": [
    "TCanvas *cz1 = new TCanvas(\"cz1\",\"cz1\",10,10,700,500);\n",
    "h_trans_mass_data->Draw();\n",
    "cz1->Draw();"
   ]
  },
  {
   "cell_type": "code",
   "execution_count": null,
   "metadata": {
    "collapsed": false
   },
   "outputs": [],
   "source": [
    "TCanvas *cz2 = new TCanvas(\"cz2\",\"cz2\",10,10,700,500);\n",
    "h_trans_mass_data->Draw();\n",
    "h_trans_mass->Draw(\"same\");\n",
    "\n",
    "cz2->Draw();"
   ]
  }
 ],
 "metadata": {
  "kernelspec": {
   "display_name": "ROOT Prompt",
   "language": "c++",
   "name": "root"
  },
  "language_info": {
   "codemirror_mode": {
    "name": "ipython",
    "version": 2
   },
   "file_extension": ".py",
   "mimetype": "text/x-python",
   "name": "python",
   "nbconvert_exporter": "python",
   "pygments_lexer": "ipython2",
   "version": "2.7.9"
  }
 },
 "nbformat": 4,
 "nbformat_minor": 1
}
